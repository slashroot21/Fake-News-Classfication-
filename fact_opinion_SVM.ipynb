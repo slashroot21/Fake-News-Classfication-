{
  "nbformat": 4,
  "nbformat_minor": 0,
  "metadata": {
    "colab": {
      "provenance": [],
      "collapsed_sections": [],
      "machine_shape": "hm",
      "toc_visible": true
    },
    "kernelspec": {
      "name": "python3",
      "display_name": "Python 3"
    },
    "language_info": {
      "name": "python"
    },
    "accelerator": "GPU"
  },
  "cells": [
    {
      "cell_type": "markdown",
      "source": [
        "# SVM for fact based news classification"
      ],
      "metadata": {
        "id": "qE2u2YwLgPzI"
      }
    },
    {
      "cell_type": "code",
      "source": [
        "import pandas as pd \n",
        "import string\n",
        "import re \n",
        "import nltk\n",
        "\n",
        "import numpy\n",
        "import time\n",
        "from sklearn.metrics import f1_score\n",
        "from sklearn.metrics import make_scorer\n",
        "from sklearn.feature_extraction.text import CountVectorizer\n",
        "from sklearn.feature_extraction.text import TfidfVectorizer\n",
        "from sklearn import model_selection, svm\n",
        "from sklearn.preprocessing import LabelEncoder\n",
        "from sklearn.metrics import classification_report, confusion_matrix,f1_score, accuracy_score\n",
        "from sklearn.metrics import precision_score, recall_score, f1_score, accuracy_score\n",
        "from sklearn.metrics import confusion_matrix\n",
        "from sklearn.model_selection import GridSearchCV\n",
        "from sklearn.ensemble import RandomForestClassifier\n",
        "from nltk.tokenize import word_tokenize\n",
        "from nltk.stem.porter import PorterStemmer\n",
        "from sklearn.pipeline import Pipeline\n",
        "from sklearn.pipeline import make_pipeline\n",
        "import seaborn as sns\n",
        "import matplotlib.pyplot as plt\n",
        "\n",
        "from collections import Counter\n",
        "from textblob import TextBlob \n",
        "\n",
        "from textblob import TextBlob\n"
      ],
      "metadata": {
        "id": "4f_nMVabC9R4"
      },
      "execution_count": 151,
      "outputs": []
    },
    {
      "cell_type": "markdown",
      "source": [
        "# Load Data"
      ],
      "metadata": {
        "id": "9DnAvCRwxiLA"
      }
    },
    {
      "cell_type": "code",
      "source": [
        "from google.colab import drive\n",
        "drive.mount('/content/drive')"
      ],
      "metadata": {
        "colab": {
          "base_uri": "https://localhost:8080/"
        },
        "id": "COlToWih84F-",
        "outputId": "9c729e01-6328-46db-cd14-65c9495c0129"
      },
      "execution_count": 143,
      "outputs": [
        {
          "output_type": "stream",
          "name": "stdout",
          "text": [
            "Drive already mounted at /content/drive; to attempt to forcibly remount, call drive.mount(\"/content/drive\", force_remount=True).\n"
          ]
        }
      ]
    },
    {
      "cell_type": "code",
      "metadata": {
        "id": "Y-cez_Ekz-ct"
      },
      "source": [
        "#read in manually laballed dataset\n",
        "dataset = pd.read_csv('/content/drive/MyDrive/datasets/fact_opinion_dataset.csv', encoding='cp1252')\n",
        "dataset = dataset.dropna()\n",
        "\n",
        "\n",
        "dataset['sentiment'] = dataset['Text'].apply(lambda text: TextBlob(text).sentiment[1])\n",
        "dataset['y'] = np.where(dataset['Label']== 'Opinion', 1, 0)\n",
        "dataset['subjectivity'] = np.where(dataset['sentiment'] <= 0.42, 0, 1)"
      ],
      "execution_count": 152,
      "outputs": []
    },
    {
      "cell_type": "markdown",
      "source": [
        "### Confusion matrix"
      ],
      "metadata": {
        "id": "ZgeIozqKJKSH"
      }
    },
    {
      "cell_type": "code",
      "source": [
        "def make_confusion_matrix(cf, group_names=None, categories='auto', count=True, percent=True, cbar=True, xyticks=True,\n",
        "                          xyplotlabels=True,\n",
        "                          sum_stats=True,\n",
        "                          figsize=None,\n",
        "                          cmap='Blues',\n",
        "                          title=None):\n",
        "\n",
        "    # CODE TO GENERATE TEXT INSIDE EACH SQUARE\n",
        "    blanks = ['' for i in range(cf.size)]\n",
        "\n",
        "    if group_names and len(group_names)==cf.size:\n",
        "        group_labels = [\"{}\\n\".format(value) for value in group_names]\n",
        "    else:\n",
        "        group_labels = blanks\n",
        "\n",
        "    if count:\n",
        "        group_counts = [\"{0:0.0f}\\n\".format(value) for value in cf.flatten()]\n",
        "    else:\n",
        "        group_counts = blanks\n",
        "\n",
        "    if percent:\n",
        "        group_percentages = [\"{0:.2%}\".format(value) for value in cf.flatten()/np.sum(cf)]\n",
        "    else:\n",
        "        group_percentages = blanks\n",
        "\n",
        "    box_labels = [f\"{v1}{v2}{v3}\".strip() for v1, v2, v3 in zip(group_labels,group_counts,group_percentages)]\n",
        "    box_labels = np.asarray(box_labels).reshape(cf.shape[0],cf.shape[1])\n",
        "\n",
        "    # SET FIGURE PARAMETERS ACCORDING TO OTHER ARGUMENTS\n",
        "    if figsize==None:\n",
        "        #Get default figure size if not set\n",
        "        figsize = plt.rcParams.get('figure.figsize')\n",
        "\n",
        "    if xyticks==False:\n",
        "        #Do not show categories if xyticks is False\n",
        "        categories=False\n",
        "\n",
        "    # MAKE THE HEATMAP VISUALIZATION\n",
        "    plt.figure(figsize=figsize)\n",
        "    sns.heatmap(cf,annot=box_labels,fmt=\"\",cmap=cmap,cbar=cbar,xticklabels=categories,yticklabels=categories)\n",
        "    plt.ylabel('True label')\n",
        "    plt.xlabel('Predicted label')\n",
        "    plt.savefig('conf.pdf')  \n",
        "\n",
        "    if title:\n",
        "        plt.title(title)\n",
        "        "
      ],
      "metadata": {
        "id": "exOjpzYpJOEv"
      },
      "execution_count": 153,
      "outputs": []
    },
    {
      "cell_type": "code",
      "metadata": {
        "id": "37-ZtoBpLMq1"
      },
      "source": [
        "def clean(text):\n",
        "    # removing all the characters other than alphabets\n",
        "    cleaned_text_1= re.sub(\"[^a-zA-Z]\", \" \", text)\n",
        "    cleaned_text_2 = re.sub(r'\\W+', ' ', cleaned_text_1)\n",
        "    # converting text to lower case\n",
        "    cleaned_text = re.sub(\"\\d+\", \" \", cleaned_text_2)\n",
        "    cleaned_text= cleaned_text.lower()\n",
        "\n",
        "    return cleaned_text\n",
        "\n",
        "# Now creating a separate column which contains the above function applied to \"text\" column\n",
        "dataset['clean'] = dataset[\"Text\"].apply(lambda x : clean(x))"
      ],
      "execution_count": 154,
      "outputs": []
    },
    {
      "cell_type": "markdown",
      "source": [
        "### Hyperparameter tunning"
      ],
      "metadata": {
        "id": "We9IAsoEFQPU"
      }
    },
    {
      "cell_type": "code",
      "source": [
        "# Define x and y train and test set\n",
        "text = dataset['clean'].tolist()\n",
        "labels = dataset['y'].tolist()\n",
        "\n",
        "train_texts, test_texts, train_labels, test_labels = train_test_split(text, labels, test_size=.2)\n",
        "\n",
        "x_train = train_texts\n",
        "x_test = test_texts\n",
        "y_train = train_labels\n",
        "y_test = test_labels\n",
        "\n",
        "# classifier\n",
        "pipeline = Pipeline([\n",
        "    ('tfidf', TfidfVectorizer(max_df=0.5, min_df=2, ngram_range=(1,1))),\n",
        "    ('clf', svm.SVC(kernel='linear',C=1.9, gamma='auto')),\n",
        "])\n",
        "\n",
        "parameters = {\n",
        "    'tfidf__max_features': (3600,10000)\n",
        "}\n",
        "\n",
        "f1_scorer = make_scorer(f1_score, average='micro', pos_label=\"fake\")\n",
        "\n",
        "# find the best parameters for both the feature extraction and the\n",
        "# classifier\n",
        "grid_search = GridSearchCV(pipeline, parameters, n_jobs=-1, cv=10 , verbose=1,scoring=f1_scorer)\n",
        "\n",
        "print(\"Performing grid search...\")\n",
        "print(\"pipeline:\", [name for name, _ in pipeline.steps])\n",
        "print(\"parameters:\")\n",
        "print(parameters)\n",
        "t0 = time.time()\n",
        "grid_search.fit(x_train, y_train)\n",
        "print(\"done in %0.3fs\" % (time.time() - t0))\n",
        "print()\n",
        "print(\"Best score: %0.3f\" % grid_search.best_score_)\n",
        "print(\"Best parameters set:\")\n",
        "best_parameters = grid_search.best_estimator_.get_params()\n",
        "for param_name in sorted(parameters.keys()):\n",
        "    print(\"\\t%s: %r\" % (param_name, best_parameters[param_name]))\n",
        "\n",
        "predictions = grid_search.predict(x_test)\n",
        "print(\"micro F1 score: \" + str(f1_score(y_test, predictions, average='micro')))"
      ],
      "metadata": {
        "colab": {
          "base_uri": "https://localhost:8080/"
        },
        "id": "5m7242jYFSui",
        "outputId": "4833f44e-3a21-4bb4-b663-26fd90366771"
      },
      "execution_count": 155,
      "outputs": [
        {
          "output_type": "stream",
          "name": "stdout",
          "text": [
            "Performing grid search...\n",
            "pipeline: ['tfidf', 'clf']\n",
            "parameters:\n",
            "{'tfidf__max_features': (3600, 10000)}\n",
            "Fitting 10 folds for each of 2 candidates, totalling 20 fits\n",
            "done in 0.613s\n",
            "\n",
            "Best score: 0.860\n",
            "Best parameters set:\n",
            "\ttfidf__max_features: 3600\n",
            "micro F1 score: 0.8181818181818182\n"
          ]
        }
      ]
    },
    {
      "cell_type": "markdown",
      "source": [
        "### Train and evaluate model"
      ],
      "metadata": {
        "id": "yUDY0_HJHbb9"
      }
    },
    {
      "cell_type": "code",
      "source": [
        "Tfidf_vect = TfidfVectorizer(max_features=3600, min_df=2, max_df=0.5, ngram_range=(1,1))\n",
        "\n",
        "Tfidf_vect.fit(x_train)\n",
        "train_x_tfidf = Tfidf_vect.transform(x_train)\n",
        "test_x_tfidf = Tfidf_vect.transform(x_test)\n",
        "\n",
        "labels = ['True Neg','False Pos','False Neg','True Pos']\n",
        "categories = ['Fake', 'Real']\n",
        "\n",
        "# Classifier - Support Vector Machine\n",
        "SVM = svm.SVC(C=1.9, kernel='linear')\n",
        "SVM.fit(train_x_tfidf, y_train)\n",
        "svm_predictions = SVM.predict(test_x_tfidf)\n",
        "svm_cf_matrix = confusion_matrix(y_test, svm_predictions)\n",
        "\n",
        "make_confusion_matrix(svm_cf_matrix, group_names=labels, categories=categories, cmap='Blues')\n",
        "print(\"micro F1-score: \" + str(f1_score(y_test, svm_predictions, average='micro')))\n",
        "print(\"macro F1-score: \" + str(f1_score(y_test, svm_predictions, average='macro')))\n",
        "\n",
        "\t\n",
        "print('Precision: %.3f' % precision_score(y_test, svm_predictions))\n",
        "print('Recall: %.3f' % recall_score(y_test, svm_predictions))\n",
        "print('Accuracy: %.3f' % accuracy_score(y_test, svm_predictions))\n",
        "print('F1 Score: %.3f' % f1_score(y_test, svm_predictions))\n",
        "\n"
      ],
      "metadata": {
        "colab": {
          "base_uri": "https://localhost:8080/",
          "height": 387
        },
        "id": "iVGAk5RxHVLH",
        "outputId": "c3838afe-036c-433f-97a3-ee66bdfe5fb1"
      },
      "execution_count": 156,
      "outputs": [
        {
          "output_type": "stream",
          "name": "stdout",
          "text": [
            "micro F1-score: 0.8181818181818182\n",
            "macro F1-score: 0.8166666666666668\n",
            "Precision: 0.800\n",
            "Recall: 0.800\n",
            "Accuracy: 0.818\n",
            "F1 Score: 0.800\n"
          ]
        },
        {
          "output_type": "display_data",
          "data": {
            "text/plain": [
              "<Figure size 432x288 with 2 Axes>"
            ],
            "image/png": "[encoded data removed]"
          },
          "metadata": {
            "needs_background": "light"
          }
        }
      ]
    },
    {
      "cell_type": "markdown",
      "source": [
        "### Saving model"
      ],
      "metadata": {
        "id": "Ay0Ut8_iTyfa"
      }
    },
    {
      "cell_type": "code",
      "source": [
        "# filepath=\"/content/drive/MyDrive/saves/factvsopi_model.pkl\"\n",
        "\n",
        "# Save model\n",
        "# pkl.dump(SVM, open(filepath, 'wb'))"
      ],
      "metadata": {
        "id": "hgIUYL6Zgz5U"
      },
      "execution_count": 157,
      "outputs": []
    },
    {
      "cell_type": "markdown",
      "source": [
        "### Load and Test model"
      ],
      "metadata": {
        "id": "eiC0YLTYgzkj"
      }
    },
    {
      "cell_type": "code",
      "source": [
        "filepath=\"/content/drive/MyDrive/saves/factvsopi_model.pkl\"\n",
        "\n",
        "# Load saved model\n",
        "# SVM_model = pd.read_pickle(filepath)\n",
        "result = SVM.predict(test_x_tfidf)\n",
        "\n",
        "print('Precision: %.3f' % precision_score(y_test, result))\n",
        "print('Recall: %.3f' % recall_score(y_test, result))\n",
        "print('Accuracy: %.3f' % accuracy_score(y_test, result))\n",
        "print('F1 Score: %.3f' % f1_score(y_test, result))\n",
        "\n"
      ],
      "metadata": {
        "colab": {
          "base_uri": "https://localhost:8080/"
        },
        "id": "cg5DvED4PO-R",
        "outputId": "eadb122c-becd-415a-8730-9c4d978989de"
      },
      "execution_count": 158,
      "outputs": [
        {
          "output_type": "stream",
          "name": "stdout",
          "text": [
            "Precision: 0.800\n",
            "Recall: 0.800\n",
            "Accuracy: 0.818\n",
            "F1 Score: 0.800\n"
          ]
        }
      ]
    }
  ]
}